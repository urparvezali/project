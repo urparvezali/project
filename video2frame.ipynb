{
 "cells": [
  {
   "cell_type": "code",
   "execution_count": 11,
   "id": "fa5e684f",
   "metadata": {},
   "outputs": [],
   "source": [
    "import cv2\n",
    "import os\n",
    "\n",
    "\n",
    "def extract_frames(video_path, output_folder):\n",
    "    if not os.path.exists(output_folder):\n",
    "        os.makedirs(output_folder)\n",
    "\n",
    "    cap = cv2.VideoCapture(video_path)\n",
    "    frame_idx = 0\n",
    "\n",
    "    while True:\n",
    "        ret, frame = cap.read()\n",
    "        if not ret:\n",
    "            break\n",
    "\n",
    "        # Rotate frame 90 degrees clockwise to fix the -90° issue\n",
    "        rotated_frame = cv2.rotate(frame, cv2.ROTATE_90_COUNTERCLOCKWISE)\n",
    "\n",
    "        frame_filename = os.path.join(output_folder, f\"frame_{frame_idx:05d}.jpg\")\n",
    "        cv2.imwrite(frame_filename, rotated_frame)\n",
    "\n",
    "        frame_idx += 1\n",
    "\n",
    "    cap.release()"
   ]
  },
  {
   "cell_type": "code",
   "execution_count": 12,
   "id": "10786626",
   "metadata": {},
   "outputs": [],
   "source": [
    "from os import makedirs, mkdir, rmdir\n",
    "from pathlib import Path\n",
    "\n",
    "frames = Path(\"frames\")\n",
    "frames.mkdir(exist_ok=True)\n",
    "\n",
    "for path in Path(\"Photos-1-001\").glob(\"*.mp4\"):\n",
    "\tdest_dir_name = path.name.split(\".\")[0]\n",
    "\tdest_dir_path = frames / dest_dir_name\n",
    "\tdest_dir_path.mkdir(exist_ok=True)\n",
    "\textract_frames(str(path), str(dest_dir_path))"
   ]
  }
 ],
 "metadata": {
  "kernelspec": {
   "display_name": ".venv",
   "language": "python",
   "name": "python3"
  },
  "language_info": {
   "codemirror_mode": {
    "name": "ipython",
    "version": 3
   },
   "file_extension": ".py",
   "mimetype": "text/x-python",
   "name": "python",
   "nbconvert_exporter": "python",
   "pygments_lexer": "ipython3",
   "version": "3.12.11"
  }
 },
 "nbformat": 4,
 "nbformat_minor": 5
}
