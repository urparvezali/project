{
 "cells": [
  {
   "cell_type": "code",
   "execution_count": null,
   "id": "8f187535",
   "metadata": {},
   "outputs": [
    {
     "name": "stderr",
     "output_type": "stream",
     "text": [
      "100%|██████████| 100/100 [00:38<00:00,  2.60it/s]"
     ]
    },
    {
     "name": "stdout",
     "output_type": "stream",
     "text": [
      "Zero: 35132, One: 51197\n"
     ]
    },
    {
     "name": "stderr",
     "output_type": "stream",
     "text": [
      "\n"
     ]
    }
   ],
   "source": [
    "import json\n",
    "from pathlib import Path\n",
    "import shutil\n",
    "from matplotlib import pyplot as plt\n",
    "import numpy as np\n",
    "from tqdm.auto import tqdm\n",
    "\n",
    "\n",
    "gazecapture = Path().cwd() / \"gazecapture\"\n",
    "\n",
    "axis_type = \"Cam\"\n",
    "gazecapture_dirs = sorted(gazecapture.iterdir())\n",
    "xmax_mean,xmin_mean = 0, 0\n",
    "ymax_mean,ymin_mean = 0, 0\n",
    "for dir in gazecapture_dirs:\n",
    "\tdotinfos = json.load(open(dir / \"dotInfo.json\", \"r\"))\n",
    "\txs = np.array(dotinfos[f\"X{axis_type}\"])\n",
    "\tys = np.array(dotinfos[f\"Y{axis_type}\"])\n",
    "\txmax = np.max(xs)\n",
    "\txmin = np.min(xs)\n",
    "\tymax = np.max(ys)\n",
    "\tymin = np.min(ys)\n",
    "\txmax_mean += xmax\n",
    "\txmin_mean += xmin\n",
    "\tymax_mean += ymax\n",
    "\tymin_mean += ymin\n",
    "xmax_mean /= len(gazecapture_dirs)\n",
    "xmin_mean /= len(gazecapture_dirs)\n",
    "ymax_mean /= len(gazecapture_dirs)\n",
    "ymin_mean /= len(gazecapture_dirs)\n",
    "\n",
    "# print(f\"X{axis_type} range: {xmin_mean} to {xmax_mean}\")\n",
    "# print(f\"Y{axis_type} range: {ymin_mean} to {ymax_mean}\")\n",
    "\t\n",
    "zero = 0\n",
    "one = 0\n",
    "destination = Path(\"dataset\")\n",
    "destination.mkdir(exist_ok=True)\n",
    "(destination / \"0\").mkdir(exist_ok=True)\n",
    "(destination / \"1\").mkdir(exist_ok=True)\n",
    "\n",
    "cnt = 0\n",
    "for dir in tqdm(gazecapture_dirs):\n",
    "\tdotinfos = json.load(open(dir / \"dotInfo.json\", \"r\"))\n",
    "\txs = np.array(dotinfos[f\"X{axis_type}\"])\n",
    "\tys = np.array(dotinfos[f\"Y{axis_type}\"])\n",
    "\t\n",
    "\tframes_dir = sorted((dir / \"frames\").glob(\"*.jpg\"))\n",
    "\tfor x, y, frame_dir in zip(xs, ys, frames_dir):\n",
    "\t\tcnt += 1\n",
    "\t\tif x > xmax_mean*0.9 or x < xmin_mean*0.9 or y > ymax_mean or y < ymin_mean*0.9:\n",
    "\t\t\tzero+=1\n",
    "\t\t\tshutil.copy(frame_dir, destination / \"0\" / \"{:08d}.jpg\".format(cnt))\n",
    "\t\tif x < xmax_mean*0.4 and x > xmin_mean*0.4 and y < ymax_mean*0.4 and y > ymin_mean*0.4:\n",
    "\t\t\tone+=1\n",
    "\t\t\tshutil.copy(frame_dir, destination / \"1\" / \"{:08d}.jpg\".format(cnt))\n",
    "\n",
    "# print(f\"Zero: {zero}, One: {one}\")"
   ]
  }
 ],
 "metadata": {
  "kernelspec": {
   "display_name": ".venv",
   "language": "python",
   "name": "python3"
  },
  "language_info": {
   "codemirror_mode": {
    "name": "ipython",
    "version": 3
   },
   "file_extension": ".py",
   "mimetype": "text/x-python",
   "name": "python",
   "nbconvert_exporter": "python",
   "pygments_lexer": "ipython3",
   "version": "3.12.11"
  }
 },
 "nbformat": 4,
 "nbformat_minor": 5
}
